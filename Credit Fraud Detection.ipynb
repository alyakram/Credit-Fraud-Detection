{
 "cells": [
  {
   "cell_type": "markdown",
   "id": "b4ee7277",
   "metadata": {},
   "source": [
    "# Credit Fraud Detection"
   ]
  },
  {
   "cell_type": "markdown",
   "id": "74cabeff",
   "metadata": {},
   "source": [
    "## The objective is to create and compare models that will help us detect credit fraud, these models will be judged on accuracy, precision, recall and their f-1 score"
   ]
  },
  {
   "cell_type": "code",
   "execution_count": 1,
   "id": "42b6bb1b",
   "metadata": {},
   "outputs": [],
   "source": [
    "import pandas as pd\n",
    "import numpy as np\n",
    "import matplotlib.pyplot as plt\n",
    "import seaborn as sns\n",
    "sns.set()\n",
    "from sklearn.model_selection import train_test_split\n",
    "import random\n",
    "from sklearn.utils import resample\n",
    "from sklearn.metrics import accuracy_score, recall_score, precision_score, f1_score\n",
    "from sklearn.ensemble import RandomForestClassifier\n",
    "from sklearn.linear_model import LogisticRegression\n",
    "from sklearn.naive_bayes import GaussianNB\n",
    "from sklearn.model_selection import GridSearchCV\n",
    "from sklearn.model_selection import ShuffleSplit\n",
    "\n",
    "random.seed(42)\n",
    "\n"
   ]
  },
  {
   "cell_type": "markdown",
   "id": "eedd5e8d",
   "metadata": {},
   "source": [
    "## Exploratory Data Analysis"
   ]
  },
  {
   "cell_type": "code",
   "execution_count": 2,
   "id": "45353ae1",
   "metadata": {},
   "outputs": [],
   "source": [
    "df = pd.read_csv('creditcard.csv')"
   ]
  },
  {
   "cell_type": "code",
   "execution_count": 3,
   "id": "f67be6c4",
   "metadata": {},
   "outputs": [
    {
     "data": {
      "text/html": [
       "<div>\n",
       "<style scoped>\n",
       "    .dataframe tbody tr th:only-of-type {\n",
       "        vertical-align: middle;\n",
       "    }\n",
       "\n",
       "    .dataframe tbody tr th {\n",
       "        vertical-align: top;\n",
       "    }\n",
       "\n",
       "    .dataframe thead th {\n",
       "        text-align: right;\n",
       "    }\n",
       "</style>\n",
       "<table border=\"1\" class=\"dataframe\">\n",
       "  <thead>\n",
       "    <tr style=\"text-align: right;\">\n",
       "      <th></th>\n",
       "      <th>Time</th>\n",
       "      <th>V1</th>\n",
       "      <th>V2</th>\n",
       "      <th>V3</th>\n",
       "      <th>V4</th>\n",
       "      <th>V5</th>\n",
       "      <th>V6</th>\n",
       "      <th>V7</th>\n",
       "      <th>V8</th>\n",
       "      <th>V9</th>\n",
       "      <th>...</th>\n",
       "      <th>V21</th>\n",
       "      <th>V22</th>\n",
       "      <th>V23</th>\n",
       "      <th>V24</th>\n",
       "      <th>V25</th>\n",
       "      <th>V26</th>\n",
       "      <th>V27</th>\n",
       "      <th>V28</th>\n",
       "      <th>Amount</th>\n",
       "      <th>Class</th>\n",
       "    </tr>\n",
       "  </thead>\n",
       "  <tbody>\n",
       "    <tr>\n",
       "      <th>0</th>\n",
       "      <td>0.0</td>\n",
       "      <td>-1.359807</td>\n",
       "      <td>-0.072781</td>\n",
       "      <td>2.536347</td>\n",
       "      <td>1.378155</td>\n",
       "      <td>-0.338321</td>\n",
       "      <td>0.462388</td>\n",
       "      <td>0.239599</td>\n",
       "      <td>0.098698</td>\n",
       "      <td>0.363787</td>\n",
       "      <td>...</td>\n",
       "      <td>-0.018307</td>\n",
       "      <td>0.277838</td>\n",
       "      <td>-0.110474</td>\n",
       "      <td>0.066928</td>\n",
       "      <td>0.128539</td>\n",
       "      <td>-0.189115</td>\n",
       "      <td>0.133558</td>\n",
       "      <td>-0.021053</td>\n",
       "      <td>149.62</td>\n",
       "      <td>0</td>\n",
       "    </tr>\n",
       "    <tr>\n",
       "      <th>1</th>\n",
       "      <td>0.0</td>\n",
       "      <td>1.191857</td>\n",
       "      <td>0.266151</td>\n",
       "      <td>0.166480</td>\n",
       "      <td>0.448154</td>\n",
       "      <td>0.060018</td>\n",
       "      <td>-0.082361</td>\n",
       "      <td>-0.078803</td>\n",
       "      <td>0.085102</td>\n",
       "      <td>-0.255425</td>\n",
       "      <td>...</td>\n",
       "      <td>-0.225775</td>\n",
       "      <td>-0.638672</td>\n",
       "      <td>0.101288</td>\n",
       "      <td>-0.339846</td>\n",
       "      <td>0.167170</td>\n",
       "      <td>0.125895</td>\n",
       "      <td>-0.008983</td>\n",
       "      <td>0.014724</td>\n",
       "      <td>2.69</td>\n",
       "      <td>0</td>\n",
       "    </tr>\n",
       "    <tr>\n",
       "      <th>2</th>\n",
       "      <td>1.0</td>\n",
       "      <td>-1.358354</td>\n",
       "      <td>-1.340163</td>\n",
       "      <td>1.773209</td>\n",
       "      <td>0.379780</td>\n",
       "      <td>-0.503198</td>\n",
       "      <td>1.800499</td>\n",
       "      <td>0.791461</td>\n",
       "      <td>0.247676</td>\n",
       "      <td>-1.514654</td>\n",
       "      <td>...</td>\n",
       "      <td>0.247998</td>\n",
       "      <td>0.771679</td>\n",
       "      <td>0.909412</td>\n",
       "      <td>-0.689281</td>\n",
       "      <td>-0.327642</td>\n",
       "      <td>-0.139097</td>\n",
       "      <td>-0.055353</td>\n",
       "      <td>-0.059752</td>\n",
       "      <td>378.66</td>\n",
       "      <td>0</td>\n",
       "    </tr>\n",
       "    <tr>\n",
       "      <th>3</th>\n",
       "      <td>1.0</td>\n",
       "      <td>-0.966272</td>\n",
       "      <td>-0.185226</td>\n",
       "      <td>1.792993</td>\n",
       "      <td>-0.863291</td>\n",
       "      <td>-0.010309</td>\n",
       "      <td>1.247203</td>\n",
       "      <td>0.237609</td>\n",
       "      <td>0.377436</td>\n",
       "      <td>-1.387024</td>\n",
       "      <td>...</td>\n",
       "      <td>-0.108300</td>\n",
       "      <td>0.005274</td>\n",
       "      <td>-0.190321</td>\n",
       "      <td>-1.175575</td>\n",
       "      <td>0.647376</td>\n",
       "      <td>-0.221929</td>\n",
       "      <td>0.062723</td>\n",
       "      <td>0.061458</td>\n",
       "      <td>123.50</td>\n",
       "      <td>0</td>\n",
       "    </tr>\n",
       "    <tr>\n",
       "      <th>4</th>\n",
       "      <td>2.0</td>\n",
       "      <td>-1.158233</td>\n",
       "      <td>0.877737</td>\n",
       "      <td>1.548718</td>\n",
       "      <td>0.403034</td>\n",
       "      <td>-0.407193</td>\n",
       "      <td>0.095921</td>\n",
       "      <td>0.592941</td>\n",
       "      <td>-0.270533</td>\n",
       "      <td>0.817739</td>\n",
       "      <td>...</td>\n",
       "      <td>-0.009431</td>\n",
       "      <td>0.798278</td>\n",
       "      <td>-0.137458</td>\n",
       "      <td>0.141267</td>\n",
       "      <td>-0.206010</td>\n",
       "      <td>0.502292</td>\n",
       "      <td>0.219422</td>\n",
       "      <td>0.215153</td>\n",
       "      <td>69.99</td>\n",
       "      <td>0</td>\n",
       "    </tr>\n",
       "  </tbody>\n",
       "</table>\n",
       "<p>5 rows × 31 columns</p>\n",
       "</div>"
      ],
      "text/plain": [
       "   Time        V1        V2        V3        V4        V5        V6        V7  \\\n",
       "0   0.0 -1.359807 -0.072781  2.536347  1.378155 -0.338321  0.462388  0.239599   \n",
       "1   0.0  1.191857  0.266151  0.166480  0.448154  0.060018 -0.082361 -0.078803   \n",
       "2   1.0 -1.358354 -1.340163  1.773209  0.379780 -0.503198  1.800499  0.791461   \n",
       "3   1.0 -0.966272 -0.185226  1.792993 -0.863291 -0.010309  1.247203  0.237609   \n",
       "4   2.0 -1.158233  0.877737  1.548718  0.403034 -0.407193  0.095921  0.592941   \n",
       "\n",
       "         V8        V9  ...       V21       V22       V23       V24       V25  \\\n",
       "0  0.098698  0.363787  ... -0.018307  0.277838 -0.110474  0.066928  0.128539   \n",
       "1  0.085102 -0.255425  ... -0.225775 -0.638672  0.101288 -0.339846  0.167170   \n",
       "2  0.247676 -1.514654  ...  0.247998  0.771679  0.909412 -0.689281 -0.327642   \n",
       "3  0.377436 -1.387024  ... -0.108300  0.005274 -0.190321 -1.175575  0.647376   \n",
       "4 -0.270533  0.817739  ... -0.009431  0.798278 -0.137458  0.141267 -0.206010   \n",
       "\n",
       "        V26       V27       V28  Amount  Class  \n",
       "0 -0.189115  0.133558 -0.021053  149.62      0  \n",
       "1  0.125895 -0.008983  0.014724    2.69      0  \n",
       "2 -0.139097 -0.055353 -0.059752  378.66      0  \n",
       "3 -0.221929  0.062723  0.061458  123.50      0  \n",
       "4  0.502292  0.219422  0.215153   69.99      0  \n",
       "\n",
       "[5 rows x 31 columns]"
      ]
     },
     "execution_count": 3,
     "metadata": {},
     "output_type": "execute_result"
    }
   ],
   "source": [
    "df.head()"
   ]
  },
  {
   "cell_type": "code",
   "execution_count": 4,
   "id": "a10d360b",
   "metadata": {},
   "outputs": [
    {
     "data": {
      "text/plain": [
       "0"
      ]
     },
     "execution_count": 4,
     "metadata": {},
     "output_type": "execute_result"
    }
   ],
   "source": [
    "df.isna().sum().sum()"
   ]
  },
  {
   "cell_type": "code",
   "execution_count": 5,
   "id": "66dbf318",
   "metadata": {},
   "outputs": [],
   "source": [
    "df_a = df.loc[:, ['Time', 'Amount', 'Class']]"
   ]
  },
  {
   "cell_type": "code",
   "execution_count": 6,
   "id": "ad7489a3",
   "metadata": {},
   "outputs": [
    {
     "name": "stdout",
     "output_type": "stream",
     "text": [
      "<class 'pandas.core.frame.DataFrame'>\n",
      "RangeIndex: 284807 entries, 0 to 284806\n",
      "Data columns (total 3 columns):\n",
      " #   Column  Non-Null Count   Dtype  \n",
      "---  ------  --------------   -----  \n",
      " 0   Time    284807 non-null  float64\n",
      " 1   Amount  284807 non-null  float64\n",
      " 2   Class   284807 non-null  int64  \n",
      "dtypes: float64(2), int64(1)\n",
      "memory usage: 6.5 MB\n"
     ]
    }
   ],
   "source": [
    "df_a.info()"
   ]
  },
  {
   "cell_type": "code",
   "execution_count": 7,
   "id": "876913d4",
   "metadata": {
    "scrolled": false
   },
   "outputs": [
    {
     "data": {
      "text/html": [
       "<div>\n",
       "<style scoped>\n",
       "    .dataframe tbody tr th:only-of-type {\n",
       "        vertical-align: middle;\n",
       "    }\n",
       "\n",
       "    .dataframe tbody tr th {\n",
       "        vertical-align: top;\n",
       "    }\n",
       "\n",
       "    .dataframe thead th {\n",
       "        text-align: right;\n",
       "    }\n",
       "</style>\n",
       "<table border=\"1\" class=\"dataframe\">\n",
       "  <thead>\n",
       "    <tr style=\"text-align: right;\">\n",
       "      <th></th>\n",
       "      <th>Time</th>\n",
       "      <th>Amount</th>\n",
       "      <th>Class</th>\n",
       "    </tr>\n",
       "  </thead>\n",
       "  <tbody>\n",
       "    <tr>\n",
       "      <th>count</th>\n",
       "      <td>284807.000000</td>\n",
       "      <td>284807.000000</td>\n",
       "      <td>284807.000000</td>\n",
       "    </tr>\n",
       "    <tr>\n",
       "      <th>mean</th>\n",
       "      <td>94813.859575</td>\n",
       "      <td>88.349619</td>\n",
       "      <td>0.001727</td>\n",
       "    </tr>\n",
       "    <tr>\n",
       "      <th>std</th>\n",
       "      <td>47488.145955</td>\n",
       "      <td>250.120109</td>\n",
       "      <td>0.041527</td>\n",
       "    </tr>\n",
       "    <tr>\n",
       "      <th>min</th>\n",
       "      <td>0.000000</td>\n",
       "      <td>0.000000</td>\n",
       "      <td>0.000000</td>\n",
       "    </tr>\n",
       "    <tr>\n",
       "      <th>25%</th>\n",
       "      <td>54201.500000</td>\n",
       "      <td>5.600000</td>\n",
       "      <td>0.000000</td>\n",
       "    </tr>\n",
       "    <tr>\n",
       "      <th>50%</th>\n",
       "      <td>84692.000000</td>\n",
       "      <td>22.000000</td>\n",
       "      <td>0.000000</td>\n",
       "    </tr>\n",
       "    <tr>\n",
       "      <th>75%</th>\n",
       "      <td>139320.500000</td>\n",
       "      <td>77.165000</td>\n",
       "      <td>0.000000</td>\n",
       "    </tr>\n",
       "    <tr>\n",
       "      <th>max</th>\n",
       "      <td>172792.000000</td>\n",
       "      <td>25691.160000</td>\n",
       "      <td>1.000000</td>\n",
       "    </tr>\n",
       "  </tbody>\n",
       "</table>\n",
       "</div>"
      ],
      "text/plain": [
       "                Time         Amount          Class\n",
       "count  284807.000000  284807.000000  284807.000000\n",
       "mean    94813.859575      88.349619       0.001727\n",
       "std     47488.145955     250.120109       0.041527\n",
       "min         0.000000       0.000000       0.000000\n",
       "25%     54201.500000       5.600000       0.000000\n",
       "50%     84692.000000      22.000000       0.000000\n",
       "75%    139320.500000      77.165000       0.000000\n",
       "max    172792.000000   25691.160000       1.000000"
      ]
     },
     "execution_count": 7,
     "metadata": {},
     "output_type": "execute_result"
    }
   ],
   "source": [
    "df_a.describe()"
   ]
  },
  {
   "cell_type": "code",
   "execution_count": 8,
   "id": "5f8b4fa2",
   "metadata": {
    "scrolled": true
   },
   "outputs": [
    {
     "data": {
      "image/png": "[encoded data removed]",
      "text/plain": [
       "<Figure size 720x720 with 4 Axes>"
      ]
     },
     "metadata": {},
     "output_type": "display_data"
    }
   ],
   "source": [
    "df_a.hist(figsize=(10,10));"
   ]
  },
  {
   "cell_type": "markdown",
   "id": "ad692c7a",
   "metadata": {},
   "source": [
    "### Handling Outliers"
   ]
  },
  {
   "cell_type": "code",
   "execution_count": 9,
   "id": "6394bfc3",
   "metadata": {},
   "outputs": [],
   "source": [
    "amount_99 = df.Amount.quantile(0.99)\n",
    "df = df[df['Amount'] < amount_99]"
   ]
  },
  {
   "cell_type": "code",
   "execution_count": 10,
   "id": "fa7c9cee",
   "metadata": {},
   "outputs": [
    {
     "data": {
      "text/plain": [
       "0    281475\n",
       "1       483\n",
       "Name: Class, dtype: int64"
      ]
     },
     "execution_count": 10,
     "metadata": {},
     "output_type": "execute_result"
    }
   ],
   "source": [
    "df.Class.value_counts()"
   ]
  },
  {
   "cell_type": "code",
   "execution_count": 11,
   "id": "b670511a",
   "metadata": {},
   "outputs": [
    {
     "data": {
      "image/png": "[encoded data removed]",
      "text/plain": [
       "<Figure size 576x576 with 1 Axes>"
      ]
     },
     "metadata": {},
     "output_type": "display_data"
    }
   ],
   "source": [
    "fraud = df_a.Class.value_counts()[0]\n",
    "not_fraud = df_a.Class.value_counts()[1]\n",
    "\n",
    "labels = ['Not Fraud' , 'Fraud']\n",
    "sizes = [fraud, not_fraud]\n",
    "\n",
    "plt.figure(figsize=(8,8))\n",
    "plt.suptitle(\"Fraud percentage\", fontsize= 20)\n",
    "plt.pie(sizes, labels=labels, autopct='%1.1f%%', shadow= False, labeldistance= 1.3, pctdistance= 1.1);"
   ]
  },
  {
   "cell_type": "markdown",
   "id": "2759a3b8",
   "metadata": {},
   "source": [
    "### Splitting the dataframe into test and train data"
   ]
  },
  {
   "cell_type": "code",
   "execution_count": 12,
   "id": "21367a43",
   "metadata": {},
   "outputs": [],
   "source": [
    "\n",
    "train_data, test_data = train_test_split(df, test_size= 0.25)"
   ]
  },
  {
   "cell_type": "markdown",
   "id": "f40d3fc0",
   "metadata": {},
   "source": [
    "### Determining the features and result for the test data"
   ]
  },
  {
   "cell_type": "code",
   "execution_count": 13,
   "id": "a83922ae",
   "metadata": {},
   "outputs": [],
   "source": [
    "fraud = test_data[test_data.Class == 1]\n",
    "not_fraud = test_data[test_data.Class == 0]"
   ]
  },
  {
   "cell_type": "markdown",
   "id": "3552c567",
   "metadata": {},
   "source": [
    "### Downsampling the not_fraud in the test data to get a more reasonable value of accuracy\n",
    "#### As fraud is is only 0.2% of the population therefore it's imbalanced and accuracy has problems with imbalanced classes "
   ]
  },
  {
   "cell_type": "code",
   "execution_count": 14,
   "id": "26a51760",
   "metadata": {},
   "outputs": [],
   "source": [
    "downsampling_fraud = resample(not_fraud, replace=True, n_samples= len(fraud), random_state=42)\n",
    "\n",
    "test_data = pd.concat([fraud, downsampling_fraud])\n",
    "\n",
    "X_test = test_data.drop('Class', axis = 1)\n",
    "y_test = test_data.Class"
   ]
  },
  {
   "cell_type": "code",
   "execution_count": 15,
   "id": "26302d13",
   "metadata": {},
   "outputs": [
    {
     "data": {
      "text/plain": [
       "((220, 31), (220, 30), (220,))"
      ]
     },
     "execution_count": 15,
     "metadata": {},
     "output_type": "execute_result"
    }
   ],
   "source": [
    "test_data.shape, X_test.shape, y_test.shape"
   ]
  },
  {
   "cell_type": "markdown",
   "id": "ffeadcde",
   "metadata": {},
   "source": [
    "### Bootstrapping fraud training data for equal number of samples"
   ]
  },
  {
   "cell_type": "code",
   "execution_count": 16,
   "id": "71818cef",
   "metadata": {},
   "outputs": [
    {
     "data": {
      "text/plain": [
       "0    211095\n",
       "1    211095\n",
       "Name: Class, dtype: int64"
      ]
     },
     "execution_count": 16,
     "metadata": {},
     "output_type": "execute_result"
    }
   ],
   "source": [
    "fraud = train_data[train_data.Class == 1]\n",
    "not_fraud = train_data[train_data.Class == 0]\n",
    "\n",
    "upsampling_fraud = resample(fraud, replace=True, n_samples= len(not_fraud), random_state=42)\n",
    "upsampled_data = pd.concat([not_fraud, upsampling_fraud])\n",
    "\n",
    "upsampled_data.Class.value_counts()"
   ]
  },
  {
   "cell_type": "markdown",
   "id": "364eb5c7",
   "metadata": {},
   "source": [
    "With so few positives relative to negatives, the training model will spend most of its time on negative examples and not learn enough from positive ones. Therefore we bootstrapped the data to make it balanced"
   ]
  },
  {
   "cell_type": "markdown",
   "id": "097edf46",
   "metadata": {},
   "source": [
    "### Determining the features and result for the train data"
   ]
  },
  {
   "cell_type": "code",
   "execution_count": 17,
   "id": "039c9b37",
   "metadata": {},
   "outputs": [],
   "source": [
    "X_train = upsampled_data.drop('Class', axis = 1)\n",
    "y_train = upsampled_data.Class"
   ]
  },
  {
   "cell_type": "markdown",
   "id": "d79e6147",
   "metadata": {},
   "source": [
    "## Random Forest"
   ]
  },
  {
   "cell_type": "code",
   "execution_count": 18,
   "id": "03f03397",
   "metadata": {
    "scrolled": true
   },
   "outputs": [
    {
     "name": "stdout",
     "output_type": "stream",
     "text": [
      "Random Forest\n",
      "Accuracy :0.9136363636363637\n",
      "Recall :0.8272727272727273\n",
      "Precision :1.0\n",
      "F1 :0.9054726368159205\n"
     ]
    }
   ],
   "source": [
    "rf = RandomForestClassifier(n_estimators = 40)\n",
    "rf_model = rf.fit(X_train, y_train)\n",
    "rf_pred = rf_model.predict(X_test)\n",
    "\n",
    "print('Random Forest')\n",
    "print(\"Accuracy :\" + str(accuracy_score(y_test ,rf_pred)))\n",
    "print(\"Recall :\" + str(recall_score(y_test ,rf_pred)))\n",
    "print(\"Precision :\" + str(precision_score(y_test ,rf_pred)))\n",
    "print(\"F1 :\" + str(f1_score(y_test ,rf_pred)))"
   ]
  },
  {
   "cell_type": "markdown",
   "id": "2fdf4c63",
   "metadata": {},
   "source": [
    "### Determining which features are the most important"
   ]
  },
  {
   "cell_type": "code",
   "execution_count": 19,
   "id": "f12f14d4",
   "metadata": {},
   "outputs": [
    {
     "data": {
      "text/plain": [
       "array([0.00420711, 0.01374618, 0.00707182, 0.07099943, 0.1050107 ,\n",
       "       0.00745434, 0.00675889, 0.01176642, 0.00819241, 0.00791167,\n",
       "       0.11177726, 0.12326992, 0.10434474, 0.00750736, 0.2365959 ,\n",
       "       0.00651003, 0.03663249, 0.02495322, 0.00766066, 0.01209147,\n",
       "       0.01168146, 0.00734362, 0.00589354, 0.00824222, 0.00524104,\n",
       "       0.00565956, 0.00711263, 0.01537088, 0.00706802, 0.01192501])"
      ]
     },
     "execution_count": 19,
     "metadata": {},
     "output_type": "execute_result"
    }
   ],
   "source": [
    "rf_model.feature_importances_"
   ]
  },
  {
   "cell_type": "markdown",
   "id": "d37e2f6c",
   "metadata": {},
   "source": [
    "## Logistic Regression"
   ]
  },
  {
   "cell_type": "code",
   "execution_count": 20,
   "id": "62c8cb7e",
   "metadata": {},
   "outputs": [
    {
     "name": "stdout",
     "output_type": "stream",
     "text": [
      "Logistic Regression\n",
      "Accuracy :0.9363636363636364\n",
      "Recall :0.9\n",
      "Precision :0.9705882352941176\n",
      "F1 :0.9339622641509434\n"
     ]
    }
   ],
   "source": [
    "lr = LogisticRegression(max_iter= 500)\n",
    "lr_model = lr.fit(X_train, y_train)\n",
    "lr_pred = lr_model.predict(X_test)\n",
    "print('Logistic Regression')\n",
    "print(\"Accuracy :\" + str(accuracy_score(y_test ,lr_pred)))\n",
    "print(\"Recall :\" + str(recall_score(y_test ,lr_pred)))\n",
    "print(\"Precision :\" + str(precision_score(y_test ,lr_pred)))\n",
    "print(\"F1 :\" + str(f1_score(y_test ,lr_pred)))"
   ]
  },
  {
   "cell_type": "markdown",
   "id": "8b4347ae",
   "metadata": {},
   "source": [
    "## Gaussian Naive Bayes"
   ]
  },
  {
   "cell_type": "code",
   "execution_count": 21,
   "id": "e5709b2a",
   "metadata": {},
   "outputs": [
    {
     "name": "stdout",
     "output_type": "stream",
     "text": [
      "Fitting 5 folds for each of 100 candidates, totalling 500 fits\n",
      "Gaussian Naive Bayes\n",
      "Accuracy :0.8545454545454545\n",
      "Recall :0.7181818181818181\n",
      "Precision :0.9875\n",
      "F1 :0.8315789473684211\n"
     ]
    }
   ],
   "source": [
    "gnb = GaussianNB()\n",
    "cv = ShuffleSplit(n_splits=5, test_size=0.3, random_state=0)\n",
    "params_NB = {'var_smoothing': np.logspace(0,-9, num=100)}\n",
    "gnb = GridSearchCV(estimator=gnb, \n",
    "                 param_grid=params_NB, \n",
    "                 cv= cv,   # use any cross validation technique \n",
    "                 verbose=1, \n",
    "                 scoring='accuracy')\n",
    "\n",
    "gnb_model = gnb.fit(X_train, y_train)\n",
    "gnb_pred = gnb_model.predict(X_test)\n",
    "print('Gaussian Naive Bayes')\n",
    "print(\"Accuracy :\" + str(accuracy_score(y_test ,gnb_pred)))\n",
    "print(\"Recall :\" + str(recall_score(y_test ,gnb_pred)))\n",
    "print(\"Precision :\" + str(precision_score(y_test ,gnb_pred)))\n",
    "print(\"F1 :\" + str(f1_score(y_test ,gnb_pred)))"
   ]
  },
  {
   "cell_type": "markdown",
   "id": "e5e45207",
   "metadata": {},
   "source": [
    "# Conclusion\n",
    "\n",
    "#### The logistic regression has the best accuracy which makes sense as based on (50% fraud, 50% not fraud ) test set and the best recall, the Random Forest with 40 trees has a 1.0 precision  score which is a bit better than logistic regression,  the f-1 score is best for the logistic regression\n",
    "### I personally think that accuracy after the downsampling of the not_fraud test data is the best metric to consider"
   ]
  },
  {
   "cell_type": "markdown",
   "id": "e68433e6",
   "metadata": {},
   "source": [
    "### The best model to use between the above three models in the case of this dataset for fraud detection should be the Logistic Regression it provides overall the best results"
   ]
  },
  {
   "cell_type": "code",
   "execution_count": null,
   "id": "0a5c48b1",
   "metadata": {},
   "outputs": [],
   "source": []
  }
 ],
 "metadata": {
  "kernelspec": {
   "display_name": "Python 3 (ipykernel)",
   "language": "python",
   "name": "python3"
  },
  "language_info": {
   "codemirror_mode": {
    "name": "ipython",
    "version": 3
   },
   "file_extension": ".py",
   "mimetype": "text/x-python",
   "name": "python",
   "nbconvert_exporter": "python",
   "pygments_lexer": "ipython3",
   "version": "3.8.8"
  }
 },
 "nbformat": 4,
 "nbformat_minor": 5
}
